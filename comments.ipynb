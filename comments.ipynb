{
 "cells": [
  {
   "cell_type": "code",
   "execution_count": 7,
   "id": "33e1e9b6",
   "metadata": {},
   "outputs": [],
   "source": [
    "import cmath\n",
    "import numpy as np\n",
    "import math\n",
    "pi = math.pi\n",
    "\n",
    "import itertools"
   ]
  },
  {
   "cell_type": "code",
   "execution_count": 2,
   "id": "d04e790c",
   "metadata": {},
   "outputs": [],
   "source": [
    "# PySCF\n",
    "import pyscf\n",
    "from pyscf import gto, scf, mcscf, cc"
   ]
  },
  {
   "cell_type": "markdown",
   "id": "e16d1a5f",
   "metadata": {},
   "source": [
    "The ```PySCF``` package is already included in ```Qiskit``` and can be used as a part of it. But I don't like this inclusion and prefer to use pyscf directly. The drawback of such approach is that one needs to extract one- and two-body integrals from pyscf and write them in a form which can be understood by ```Qiskit```. This should be done since it is convenient to use ```Qiskit``` for Hamiltonian construction as in the second quantization form as well as in the form appropriate for the quantum computer (sum of the Pauli strings). The extraction of the 1- and 2-body integrals is done by the procedure, which was cutted from ```Qiskit``` and placed into ```integrals_mod.py``` file."
   ]
  },
  {
   "cell_type": "code",
   "execution_count": 3,
   "id": "2aa70b6a",
   "metadata": {},
   "outputs": [],
   "source": [
    "from integrals_mod import *"
   ]
  },
  {
   "cell_type": "markdown",
   "id": "bb0592f9",
   "metadata": {},
   "source": [
    "In many cases it will be convenient to write the state of the quantum computer as a vector and to transform operations on qubits into matrices-vector multiplications. This will allow to check hether everything works correctly. The related functions are planned to place in ```classical_mod.py```."
   ]
  },
  {
   "cell_type": "code",
   "execution_count": 4,
   "id": "b80b0765",
   "metadata": {},
   "outputs": [],
   "source": [
    "import classical_mod"
   ]
  },
  {
   "cell_type": "markdown",
   "id": "c7dcdfbb",
   "metadata": {},
   "source": [
    "The file ```quantum_mod.py``` contains functions which are used for simulation of the quantum computer or even launch the code on the real quantum computer."
   ]
  },
  {
   "cell_type": "code",
   "execution_count": 5,
   "id": "b414fbcf",
   "metadata": {},
   "outputs": [],
   "source": [
    "from quantum_mod import *"
   ]
  },
  {
   "cell_type": "code",
   "execution_count": 6,
   "id": "6437d4ce",
   "metadata": {},
   "outputs": [],
   "source": [
    "# Qiskit\n",
    "from qiskit import *\n",
    "from qiskit_nature.problems.second_quantization.electronic.builders.fermionic_op_builder import build_ferm_op_from_ints\n",
    "\n",
    "from qiskit_nature.operators.second_quantization import FermionicOp\n",
    "from qiskit_nature.converters.second_quantization import QubitConverter\n",
    "from qiskit_nature.mappers.second_quantization import JordanWignerMapper, ParityMapper\n",
    "\n",
    "from qiskit.quantum_info import Statevector"
   ]
  },
  {
   "cell_type": "markdown",
   "id": "24b6d576",
   "metadata": {},
   "source": [
    "We start from specifying the system of interest, lets start from H4 molecule."
   ]
  },
  {
   "cell_type": "code",
   "execution_count": 9,
   "id": "239bc264",
   "metadata": {},
   "outputs": [],
   "source": [
    "sz_tot = 0 # even number of electrons\n",
    "#sz_tot = 1 # odd number of electrons\n",
    "\n",
    "mol = gto.M(\n",
    "        #atom = 'H 0 0 0; H 0 0 0.735',\n",
    "        #atom = 'Li 0 0 0; H 0 0 1.5',\n",
    "        atom = 'H 0 0 0; H 0 0 1.24; H 0 1.24 1.24; H 0 1.24 0',\n",
    "        basis = 'sto-3g',\n",
    "        #basis = 'ccpvdz',\n",
    "        #basis = 'ccpvtz',\n",
    "        #basis = 'cc-pVQZ',\n",
    "        #basis = 'cc-pV5Z',\n",
    "        spin = sz_tot, verbose=0)"
   ]
  },
  {
   "cell_type": "markdown",
   "id": "54d71ef2",
   "metadata": {},
   "source": [
    "Let us see some info about the system"
   ]
  },
  {
   "cell_type": "code",
   "execution_count": 11,
   "id": "87fac85b",
   "metadata": {},
   "outputs": [
    {
     "name": "stdout",
     "output_type": "stream",
     "text": [
      "Number of atomic orbitals =  4\n",
      "Number of spin orbitals =  8\n",
      "Number of electrons =  4 alpha =  2 beta =  2\n"
     ]
    }
   ],
   "source": [
    "nao = mol.nao\n",
    "nso = 2*nao\n",
    "print(\"Number of atomic orbitals = \", nao, flush=True)\n",
    "print(\"Number of spin orbitals = \", nso, flush=True)\n",
    "\n",
    "nelectron = mol.nelectron\n",
    "na = mol.nelec[0]\n",
    "nb = mol.nelec[1]\n",
    "print(\"Number of electrons = \", nelectron, \"alpha = \", na,\"beta = \", nb)"
   ]
  },
  {
   "cell_type": "markdown",
   "id": "b4c725b8",
   "metadata": {},
   "source": [
    "We work in the nonrelativistic formalism but with spin. The presence of spin is accounted for only via the Pauli principle, e.g., two particles with exactly the same quantum numbers can't occupy the same state.\n",
    "\n",
    "The spin projection can be either +1/2 or -1/2. Let us assign the electrons with the spin +1/2 to the alpha class and electrons with -1/2 to the beta class. The number of electrons in these classes are equal na and nb, respectively. Note that since ```sz_tot = 0.5*(na - nb)``` is a good quantum number, the number of particles in each class can't be changed."
   ]
  },
  {
   "cell_type": "code",
   "execution_count": 13,
   "id": "bb74a780",
   "metadata": {},
   "outputs": [
    {
     "name": "stdout",
     "output_type": "stream",
     "text": [
      "\n",
      "Hartree-Fock energy =  -1.699765101353842 [Ha]\n",
      "Nucleus interaction energy =  2.3105471227918004 [Ha]\n",
      "FCI electronic energy =  -1.9699338641352195 [Ha]\n",
      "Correlations =  270.169 [mHa]\n"
     ]
    }
   ],
   "source": [
    "# Hartree-Fock\n",
    "mf = scf.RHF(mol).run()\n",
    "E_HF = mf.e_tot\n",
    "print(\"\\nHartree-Fock energy = \", E_HF, \"[Ha]\", flush=True)\n",
    "\n",
    "\n",
    "# Nucleus interaction energy\n",
    "E_Nuc = mf.energy_nuc()\n",
    "print(\"Nucleus interaction energy = \",E_Nuc, \"[Ha]\")\n",
    "\n",
    "\n",
    "# Complete CI in a given basis\n",
    "mc_fci = mcscf.CASCI(mf, nao, nelectron).run(verbose=0)\n",
    "E_FCI = mc_fci.e_tot\n",
    "print(\"FCI electronic energy = \", E_FCI, \"[Ha]\")\n",
    "print(\"Correlations = \", f'{abs(E_FCI - E_HF)*1.e3: <.3f}', \"[mHa]\",\n",
    "      flush=True)"
   ]
  },
  {
   "cell_type": "markdown",
   "id": "3fb84719",
   "metadata": {},
   "source": [
    "We are interested in the difference between the Hartree-Fock energy and the FCI (Full Configuration Interaction) energy. FCI energy is the most accurate value which can be obtained in the given basis. If the difference between HF and FCI energies is smaller than the required accuracy, than there is no need to go beyond HF and use quantum computer and etc. Here and throught we assume that the accuracy on the level of 1 kcal/mol (1.594 mHa) is required."
   ]
  },
  {
   "cell_type": "code",
   "execution_count": 14,
   "id": "44fc1dc3",
   "metadata": {},
   "outputs": [
    {
     "name": "stdout",
     "output_type": "stream",
     "text": [
      "\n",
      "CCSD electronic energy =  -1.7876561755669462 [Ha]\n",
      "diff with FCI =  182.278 [mHa]\n"
     ]
    }
   ],
   "source": [
    "# CCSD\n",
    "mc_ccsd = cc.CCSD(mf).run(verbose=0)\n",
    "E_CCSD = mc_ccsd.e_tot\n",
    "print(\"\\nCCSD electronic energy = \", E_CCSD, \"[Ha]\")\n",
    "print(\"diff with FCI = \", f'{abs(E_FCI - E_CCSD)*1.e3: <.3f}', \"[mHa]\",\n",
    "      flush=True)"
   ]
  },
  {
   "cell_type": "markdown",
   "id": "1e97ca85",
   "metadata": {},
   "source": [
    "While FCI calculation is extremely expensive, CCSD (Coupled-Cluster Single Double) can be performed even for systems with relatively large number of electrons. Tge growth of it's complexety is about N^7, where N is the number of the basis functions. The systems, where CCSD approach provides the energy differing from the FCI one by more than 1 1.594 mHa are in the scope of our interest. The H4 molecule is exactly the case."
   ]
  },
  {
   "cell_type": "code",
   "execution_count": 16,
   "id": "fe01da90",
   "metadata": {},
   "outputs": [],
   "source": [
    "# The one- and two-body integrals are calculated and \n",
    "# transformed to the form required for the Qiskit package\n",
    "one_b_int, two_b_int = integrals(mol, mc_fci)"
   ]
  },
  {
   "cell_type": "markdown",
   "id": "cf137791",
   "metadata": {},
   "source": [
    "The 1- and 2-body integrals are used for the construction of the Hamiltonian in the second quantization picture"
   ]
  },
  {
   "cell_type": "code",
   "execution_count": 17,
   "id": "615c178e",
   "metadata": {},
   "outputs": [],
   "source": [
    "H_op = build_ferm_op_from_ints(one_body_integrals=one_b_int,\n",
    "                               two_body_integrals=two_b_int)"
   ]
  },
  {
   "cell_type": "markdown",
   "id": "3952e3ce",
   "metadata": {},
   "source": [
    "To proceed further, we have to chose the way of mapping the second quantization operators to the operations on qubits. Parity and Bravyi-Kitaev mappings allow to drop two qubits from the Hamiltonian and consider the problem of the smaller size without loosing any information. For transparancy, however, it is more convenient to use Jordan-Wigner mapping in which the occupied spin-orbital is related to the |1> state of the qubit and vacant to the |0> one. In this encoding the number of qubits equals the number of spin-orbitals"
   ]
  },
  {
   "cell_type": "code",
   "execution_count": 19,
   "id": "bb4997e8",
   "metadata": {},
   "outputs": [
    {
     "name": "stdout",
     "output_type": "stream",
     "text": [
      "\n",
      " Nq =  8\n"
     ]
    }
   ],
   "source": [
    "mapper = JordanWignerMapper()\n",
    "reduction = False\n",
    "\n",
    "qubit_converter = QubitConverter(mapper=mapper,\n",
    "                                 two_qubit_reduction=reduction)\n",
    "\n",
    "H_q = qubit_converter.convert(H_op, num_particles=nelectron)\n",
    "\n",
    "Nq = H_q.num_qubits\n",
    "print( \"\\n Nq = \", Nq, flush=True )"
   ]
  },
  {
   "cell_type": "markdown",
   "id": "429a3d30",
   "metadata": {},
   "source": [
    "For the moment, the most accurate approximation of the ground-state wave function can be taken from HF calculation. Note that though CCSD approach provides the energy which is closer to the FCI one, it do not provide the wave function. Therefore, we will use the HF wave function as an input to the quantum computer. This is equivalent to filling ```na``` orbitals in the alpha class and ```nb``` orbitals in the beta class. For the H4 molecule in the STO-3G basis there are 8 spin-orbitals with sets of numbers 0..3 and 4..7 numerating the alpha and beta classes, respectively."
   ]
  },
  {
   "cell_type": "code",
   "execution_count": 21,
   "id": "f30f4f88",
   "metadata": {},
   "outputs": [
    {
     "name": "stdout",
     "output_type": "stream",
     "text": [
      "occupied orbitals =  [0, 1, 4, 5]\n"
     ]
    }
   ],
   "source": [
    "# Initial guess of the ground state\n",
    "occ_hf_a = [i for i in range(na)]\n",
    "occ_hf_b = [nao + i for i in range(nb)] \n",
    "occ_hf = occ_hf_a + occ_hf_b\n",
    "\n",
    "print(\"occupied orbitals = \", occ_hf)"
   ]
  },
  {
   "cell_type": "markdown",
   "id": "df09a614",
   "metadata": {},
   "source": [
    "Let us also create the circuit for preparing the HF wave function and translate it to the vector. Note that in ```Qiskit``` the qubits are numerated from the right, e.g., q7 q6 ... q0. So, the rightmost qubit is related to the 0 orbital."
   ]
  },
  {
   "cell_type": "code",
   "execution_count": 23,
   "id": "e5fc18ca",
   "metadata": {},
   "outputs": [
    {
     "name": "stdout",
     "output_type": "stream",
     "text": [
      "00110011\n"
     ]
    }
   ],
   "source": [
    "psi_HF_circ = QuantumCircuit(Nq, Nq)\n",
    "lbl = \"0\"*Nq\n",
    "for o in occ_hf:\n",
    "  psi_HF_circ.x(o)\n",
    "  lbl = lbl[:Nq-1-o] + \"1\" + lbl[Nq-o:]\n",
    "  \n",
    "print(lbl)\n",
    "psi_HF_vec = Statevector.from_label(lbl).data"
   ]
  },
  {
   "cell_type": "markdown",
   "id": "c0f1ffb9",
   "metadata": {},
   "source": [
    "Let us perform a simple check that our 1- and 2-body integrals were trasferred to the Qiskit correctly and that the HF wave function is also correct"
   ]
  },
  {
   "cell_type": "code",
   "execution_count": 24,
   "id": "eb5ebcc5",
   "metadata": {},
   "outputs": [
    {
     "name": "stdout",
     "output_type": "stream",
     "text": [
      "< hf | H | hf > =  -1.6997651013538384 should be -1.699765101353842\n"
     ]
    }
   ],
   "source": [
    "H_mtrx = H_q.to_matrix().real # for classical tests\n",
    "\n",
    "print(\"< hf | H | hf > = \", \n",
    "      psi_HF_vec.conj().T.dot( H_mtrx.dot(psi_HF_vec) ).item(0).real + E_Nuc,\n",
    "      \"should be\", E_HF)"
   ]
  },
  {
   "cell_type": "markdown",
   "id": "3db510d5",
   "metadata": {},
   "source": [
    "Now we will find all possible variants of populating the orbitals from the alpha class by ```na``` electrons"
   ]
  },
  {
   "cell_type": "code",
   "execution_count": 25,
   "id": "bc148d51",
   "metadata": {},
   "outputs": [
    {
     "name": "stdout",
     "output_type": "stream",
     "text": [
      "[(0, 1), (0, 2), (0, 3), (1, 2), (1, 3), (2, 3)]\n"
     ]
    }
   ],
   "source": [
    "# Numbers of alpha orbitals\n",
    "orbs_a = [i for i in range(nao)]\n",
    "\n",
    "# list of all possible occupations of the alpha class\n",
    "list_a = list(itertools.combinations(orbs_a,na))\n",
    "\n",
    "print(list_a)"
   ]
  },
  {
   "cell_type": "markdown",
   "id": "55422608",
   "metadata": {},
   "source": [
    "The same for the beta set"
   ]
  },
  {
   "cell_type": "code",
   "execution_count": 27,
   "id": "64ec3693",
   "metadata": {},
   "outputs": [
    {
     "name": "stdout",
     "output_type": "stream",
     "text": [
      "[(4, 5), (4, 6), (4, 7), (5, 6), (5, 7), (6, 7)]\n"
     ]
    }
   ],
   "source": [
    "orbs_b = [nao+i for i in range(nao)]\n",
    "list_b = list(itertools.combinations(orbs_b,nb))\n",
    "print(list_b)"
   ]
  },
  {
   "cell_type": "markdown",
   "id": "21b30816",
   "metadata": {},
   "source": [
    "Currently the alpha and beta sets are occupied as follows"
   ]
  },
  {
   "cell_type": "code",
   "execution_count": 28,
   "id": "e17f1a1c",
   "metadata": {},
   "outputs": [
    {
     "name": "stdout",
     "output_type": "stream",
     "text": [
      "[0, 1]\n",
      "[4, 5]\n"
     ]
    }
   ],
   "source": [
    "print(occ_hf_a)\n",
    "print(occ_hf_b)"
   ]
  },
  {
   "cell_type": "markdown",
   "id": "9a4f5d30",
   "metadata": {},
   "source": [
    "Here we empose the restriction that the state, which is described by the occupation numbers from ```list_a``` can be obtained only by annihilating the electrons in ```occ_hf_a```. The same for the beta set. \n",
    "\n",
    "For each element in ```list_a``` let us find which electron from ```occ_hf_a``` should be annihilated and where it should be created. "
   ]
  },
  {
   "cell_type": "code",
   "execution_count": 39,
   "id": "b65ecc2e",
   "metadata": {},
   "outputs": [
    {
     "name": "stdout",
     "output_type": "stream",
     "text": [
      "To create (0, 1) from [0, 1] ann [] crt []\n",
      "To create (0, 2) from [0, 1] ann [1] crt [2]\n",
      "To create (0, 3) from [0, 1] ann [1] crt [3]\n",
      "To create (1, 2) from [0, 1] ann [0] crt [2]\n",
      "To create (1, 3) from [0, 1] ann [0] crt [3]\n",
      "To create (2, 3) from [0, 1] ann [0, 1] crt [2, 3]\n"
     ]
    }
   ],
   "source": [
    "for occ_a in list_a:\n",
    "    ann_a = [a for a in occ_hf_a if not a in occ_a]\n",
    "    crt_a = [a for a in occ_a if not a in occ_hf_a]\n",
    "    \n",
    "    print(\"To create\", occ_a, \"from\", occ_hf_a ,\"ann\", ann_a, \"crt\",crt_a)"
   ]
  },
  {
   "cell_type": "markdown",
   "id": "7f489e9b",
   "metadata": {},
   "source": [
    "The number of creation (or annihilation) operators required equals to the number of excitations. The Doubles are related to exactly 2 excitations in both alpha and beta sets."
   ]
  },
  {
   "cell_type": "code",
   "execution_count": 43,
   "id": "af252d5c",
   "metadata": {},
   "outputs": [
    {
     "name": "stdout",
     "output_type": "stream",
     "text": [
      "ann: [4, 5] crt: [6, 7]\n",
      "ann: [1, 5] crt: [2, 6]\n",
      "ann: [1, 5] crt: [2, 7]\n",
      "ann: [1, 4] crt: [2, 6]\n",
      "ann: [1, 4] crt: [2, 7]\n",
      "ann: [1, 5] crt: [3, 6]\n",
      "ann: [1, 5] crt: [3, 7]\n",
      "ann: [1, 4] crt: [3, 6]\n",
      "ann: [1, 4] crt: [3, 7]\n",
      "ann: [0, 5] crt: [2, 6]\n",
      "ann: [0, 5] crt: [2, 7]\n",
      "ann: [0, 4] crt: [2, 6]\n",
      "ann: [0, 4] crt: [2, 7]\n",
      "ann: [0, 5] crt: [3, 6]\n",
      "ann: [0, 5] crt: [3, 7]\n",
      "ann: [0, 4] crt: [3, 6]\n",
      "ann: [0, 4] crt: [3, 7]\n",
      "ann: [0, 1] crt: [2, 3]\n"
     ]
    }
   ],
   "source": [
    "ann = []\n",
    "crt = []\n",
    "for occ_a in list_a:\n",
    "    ann_a = [a for a in occ_hf_a if not a in occ_a]\n",
    "    crt_a = [a for a in occ_a if not a in occ_hf_a]\n",
    "    for occ_b in list_b:\n",
    "        ann_b = [b for b in occ_hf_b if not b in occ_b]\n",
    "        crt_b = [b for b in occ_b if not b in occ_hf_b]\n",
    "\n",
    "        # if the number of excitation != 2 we proceed further\n",
    "        if len(crt_a + crt_b) != 2:\n",
    "            continue\n",
    "\n",
    "        ann.append( ann_a + ann_b )\n",
    "        crt.append( crt_a + crt_b )            \n",
    "\n",
    "        print(\"ann:\",ann[-1],\"crt:\",crt[-1])"
   ]
  },
  {
   "cell_type": "markdown",
   "id": "f9a2fd76",
   "metadata": {},
   "source": [
    "Now we write the double excitation as the following operator\n",
    "\n",
    "$$e^{t(T_2 - T_2^\\dagger)}$$\n",
    "\n",
    "with \n",
    "\n",
    "$$T_2 = a^\\dagger_p a^\\dagger_q a_r a_s$$\n",
    "\n",
    "[p,q] and [r,s] stand for the elements of ```ann``` and ```crt```, respectively, and *t* is the cluster amplitude which is to be find via variational approach. \n",
    "\n",
    "To transform this operator to the gates, one needs to express it as a sum of PS (Pauli Strings). For this purpose the ```Qiskit``` package can be used."
   ]
  },
  {
   "cell_type": "code",
   "execution_count": 42,
   "id": "2ac413af",
   "metadata": {},
   "outputs": [],
   "source": [
    "D_q = []\n",
    "for i in range(len(ann)):\n",
    "    if len(crt[i]) != 2:\n",
    "        continue\n",
    "\n",
    "    T = FermionicOp(\"\", register_length=Nq)\n",
    "    for o in crt[i]:\n",
    "        T @= FermionicOp(\"+_\"+str(o), register_length=Nq)\n",
    "    for o in ann[i]:\n",
    "        T @= FermionicOp(\"-_\"+str(o), register_length=Nq)\n",
    "    T -= ~T\n",
    "\n",
    "    T_q = qubit_converter.convert(T.reduce(), num_particles=nelectron)\n",
    "\n",
    "    D_q.append(T_q)"
   ]
  },
  {
   "cell_type": "markdown",
   "id": "959cbf0d",
   "metadata": {},
   "source": [
    "As an example, for the last double excitation one obtains "
   ]
  },
  {
   "cell_type": "code",
   "execution_count": 60,
   "id": "d3911f26",
   "metadata": {},
   "outputs": [
    {
     "name": "stdout",
     "output_type": "stream",
     "text": [
      "ann [0, 1] crt [2, 3]\n",
      "\n",
      "T - T^+ =  -0.125j * IIIIYXXX\n",
      "+ -0.125j * IIIIXYXX\n",
      "+ 0.125j * IIIIXXYX\n",
      "+ -0.125j * IIIIYYYX\n",
      "+ 0.125j * IIIIXXXY\n",
      "+ -0.125j * IIIIYYXY\n",
      "+ 0.125j * IIIIYXYY\n",
      "+ 0.125j * IIIIXYYY\n"
     ]
    }
   ],
   "source": [
    "indx = np.random.randint(0, high=len(ann), dtype=int)\n",
    "\n",
    "print(\"ann\",ann[indx],\"crt\",crt[indx])\n",
    "print(\"\\nT - T^+ = \", D_q[indx])"
   ]
  },
  {
   "cell_type": "markdown",
   "id": "b4a672ea",
   "metadata": {},
   "source": [
    "Now we transform\n",
    "\n",
    "$$e^{t(T_2 - T_2^\\dagger)} = e^{t\\sum_i c_i PS_i} \\approx \\Pi_i e^{t c_i PS_i}$$\n",
    "\n",
    "For each PS in the product one needs to construct the circuit, which for the arbitrary choice of the PS is given by"
   ]
  },
  {
   "cell_type": "code",
   "execution_count": 72,
   "id": "43e3f7af",
   "metadata": {},
   "outputs": [
    {
     "name": "stdout",
     "output_type": "stream",
     "text": [
      "PS =  IIIIYXYY\n"
     ]
    }
   ],
   "source": [
    "indx_ps = np.random.randint(0, high=len(D_q[indx]), dtype=int)\n",
    "#t_ang = \n",
    "\n",
    "PS, coef = D_q[indx][indx_ps].primitive.to_list()[0]\n",
    "\n",
    "print(\"PS = \", PS, coef)\n",
    "\n",
    "#ang = -1j * coef * t_ang\n",
    "\n",
    "#print( exp_alpha_PS_circ(ang.real, PS) ) "
   ]
  },
  {
   "cell_type": "code",
   "execution_count": null,
   "id": "6037794f",
   "metadata": {},
   "outputs": [],
   "source": []
  }
 ],
 "metadata": {
  "kernelspec": {
   "display_name": "qiskit_env",
   "language": "python",
   "name": "qiskit_env"
  },
  "language_info": {
   "codemirror_mode": {
    "name": "ipython",
    "version": 3
   },
   "file_extension": ".py",
   "mimetype": "text/x-python",
   "name": "python",
   "nbconvert_exporter": "python",
   "pygments_lexer": "ipython3",
   "version": "3.9.1"
  }
 },
 "nbformat": 4,
 "nbformat_minor": 5
}
